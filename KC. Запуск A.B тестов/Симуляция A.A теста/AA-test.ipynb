{
 "cells": [
  {
   "cell_type": "code",
   "execution_count": 24,
   "metadata": {},
   "outputs": [],
   "source": [
    "# импортируем библиотеки\n",
    "import pandas as pd\n",
    "import numpy as np\n",
    "import seaborn as sns\n",
    "import matplotlib.pyplot as plt\n",
    "from scipy import stats\n",
    "from read_db.CH import Getch\n",
    "from scipy.stats import mannwhitneyu, ttest_ind, norm\n",
    "from tqdm.auto import tqdm"
   ]
  },
  {
   "cell_type": "code",
   "execution_count": 25,
   "metadata": {},
   "outputs": [],
   "source": [
    "# импортируем данные за период с 08.11 по 14.11\n",
    "data = Getch(\"select user_id, exp_group, \\\n",
    "countIf(action = 'view') as views, \\\n",
    "countIf(action = 'like') as likes, \\\n",
    "likes / views as ctr \\\n",
    "from simulator.feed_actions \\\n",
    "where toDate(time) >= '2021-11-08' and toDate(time) <= '2021-11-14' and \\\n",
    "exp_group in (2, 3) \\\n",
    "group by user_id, exp_group\").df"
   ]
  },
  {
   "cell_type": "code",
   "execution_count": 26,
   "metadata": {},
   "outputs": [
    {
     "data": {
      "text/html": [
       "<div>\n",
       "<style scoped>\n",
       "    .dataframe tbody tr th:only-of-type {\n",
       "        vertical-align: middle;\n",
       "    }\n",
       "\n",
       "    .dataframe tbody tr th {\n",
       "        vertical-align: top;\n",
       "    }\n",
       "\n",
       "    .dataframe thead th {\n",
       "        text-align: right;\n",
       "    }\n",
       "</style>\n",
       "<table border=\"1\" class=\"dataframe\">\n",
       "  <thead>\n",
       "    <tr style=\"text-align: right;\">\n",
       "      <th></th>\n",
       "      <th>user_id</th>\n",
       "      <th>exp_group</th>\n",
       "      <th>views</th>\n",
       "      <th>likes</th>\n",
       "      <th>ctr</th>\n",
       "    </tr>\n",
       "  </thead>\n",
       "  <tbody>\n",
       "    <tr>\n",
       "      <th>0</th>\n",
       "      <td>115383</td>\n",
       "      <td>3</td>\n",
       "      <td>36</td>\n",
       "      <td>11</td>\n",
       "      <td>0.305556</td>\n",
       "    </tr>\n",
       "    <tr>\n",
       "      <th>1</th>\n",
       "      <td>131473</td>\n",
       "      <td>2</td>\n",
       "      <td>148</td>\n",
       "      <td>26</td>\n",
       "      <td>0.175676</td>\n",
       "    </tr>\n",
       "    <tr>\n",
       "      <th>2</th>\n",
       "      <td>123580</td>\n",
       "      <td>3</td>\n",
       "      <td>92</td>\n",
       "      <td>15</td>\n",
       "      <td>0.163043</td>\n",
       "    </tr>\n",
       "    <tr>\n",
       "      <th>3</th>\n",
       "      <td>23985</td>\n",
       "      <td>2</td>\n",
       "      <td>66</td>\n",
       "      <td>12</td>\n",
       "      <td>0.181818</td>\n",
       "    </tr>\n",
       "    <tr>\n",
       "      <th>4</th>\n",
       "      <td>24523</td>\n",
       "      <td>2</td>\n",
       "      <td>120</td>\n",
       "      <td>17</td>\n",
       "      <td>0.141667</td>\n",
       "    </tr>\n",
       "  </tbody>\n",
       "</table>\n",
       "</div>"
      ],
      "text/plain": [
       "   user_id  exp_group  views  likes       ctr\n",
       "0   115383          3     36     11  0.305556\n",
       "1   131473          2    148     26  0.175676\n",
       "2   123580          3     92     15  0.163043\n",
       "3    23985          2     66     12  0.181818\n",
       "4    24523          2    120     17  0.141667"
      ]
     },
     "execution_count": 26,
     "metadata": {},
     "output_type": "execute_result"
    }
   ],
   "source": [
    "# посмотрим на данные\n",
    "data.head()"
   ]
  },
  {
   "cell_type": "markdown",
   "metadata": {},
   "source": [
    "### Рабочие гипотезы\n",
    "- H0 - значимых статистических различий в выборках между экспериментальными группами 2 и 3 нет, система сплитования функционирует корректно;\n",
    "- H1 - между выборками экспериментальных групп 2 и 3 есть статистически значимые различия, система сплитования функционирует некорректно."
   ]
  },
  {
   "cell_type": "code",
   "execution_count": 27,
   "metadata": {},
   "outputs": [],
   "source": [
    "# функция для рассчета сглаженного ctr\n",
    "def get_smoothed_ctr(user_likes, user_views, global_ctr, alpha):\n",
    "    smoothed_ctr = (user_likes + alpha * global_ctr) / (user_views + alpha)\n",
    "    return smoothed_ctr"
   ]
  },
  {
   "cell_type": "code",
   "execution_count": 28,
   "metadata": {},
   "outputs": [
    {
     "data": {
      "text/plain": [
       "0.2110333174107494"
      ]
     },
     "execution_count": 28,
     "metadata": {},
     "output_type": "execute_result"
    }
   ],
   "source": [
    "# глобальный ctr\n",
    "global_ctr = data.likes.sum() / data.views.sum()\n",
    "global_ctr"
   ]
  },
  {
   "cell_type": "code",
   "execution_count": 29,
   "metadata": {},
   "outputs": [],
   "source": [
    "# добавим столбец со сглаженным ctr в датасет\n",
    "data['smoothed_ctr'] = data.apply(lambda x: get_smoothed_ctr(x['likes'], x['views'], global_ctr, 5), axis=1)"
   ]
  },
  {
   "cell_type": "code",
   "execution_count": 30,
   "metadata": {},
   "outputs": [
    {
     "data": {
      "text/html": [
       "<div>\n",
       "<style scoped>\n",
       "    .dataframe tbody tr th:only-of-type {\n",
       "        vertical-align: middle;\n",
       "    }\n",
       "\n",
       "    .dataframe tbody tr th {\n",
       "        vertical-align: top;\n",
       "    }\n",
       "\n",
       "    .dataframe thead th {\n",
       "        text-align: right;\n",
       "    }\n",
       "</style>\n",
       "<table border=\"1\" class=\"dataframe\">\n",
       "  <thead>\n",
       "    <tr style=\"text-align: right;\">\n",
       "      <th></th>\n",
       "      <th>user_id</th>\n",
       "      <th>exp_group</th>\n",
       "      <th>views</th>\n",
       "      <th>likes</th>\n",
       "      <th>ctr</th>\n",
       "      <th>smoothed_ctr</th>\n",
       "    </tr>\n",
       "  </thead>\n",
       "  <tbody>\n",
       "    <tr>\n",
       "      <th>0</th>\n",
       "      <td>115383</td>\n",
       "      <td>3</td>\n",
       "      <td>36</td>\n",
       "      <td>11</td>\n",
       "      <td>0.305556</td>\n",
       "      <td>0.294028</td>\n",
       "    </tr>\n",
       "    <tr>\n",
       "      <th>1</th>\n",
       "      <td>131473</td>\n",
       "      <td>2</td>\n",
       "      <td>148</td>\n",
       "      <td>26</td>\n",
       "      <td>0.175676</td>\n",
       "      <td>0.176831</td>\n",
       "    </tr>\n",
       "    <tr>\n",
       "      <th>2</th>\n",
       "      <td>123580</td>\n",
       "      <td>3</td>\n",
       "      <td>92</td>\n",
       "      <td>15</td>\n",
       "      <td>0.163043</td>\n",
       "      <td>0.165517</td>\n",
       "    </tr>\n",
       "    <tr>\n",
       "      <th>3</th>\n",
       "      <td>23985</td>\n",
       "      <td>2</td>\n",
       "      <td>66</td>\n",
       "      <td>12</td>\n",
       "      <td>0.181818</td>\n",
       "      <td>0.183876</td>\n",
       "    </tr>\n",
       "    <tr>\n",
       "      <th>4</th>\n",
       "      <td>24523</td>\n",
       "      <td>2</td>\n",
       "      <td>120</td>\n",
       "      <td>17</td>\n",
       "      <td>0.141667</td>\n",
       "      <td>0.144441</td>\n",
       "    </tr>\n",
       "  </tbody>\n",
       "</table>\n",
       "</div>"
      ],
      "text/plain": [
       "   user_id  exp_group  views  likes       ctr  smoothed_ctr\n",
       "0   115383          3     36     11  0.305556      0.294028\n",
       "1   131473          2    148     26  0.175676      0.176831\n",
       "2   123580          3     92     15  0.163043      0.165517\n",
       "3    23985          2     66     12  0.181818      0.183876\n",
       "4    24523          2    120     17  0.141667      0.144441"
      ]
     },
     "execution_count": 30,
     "metadata": {},
     "output_type": "execute_result"
    }
   ],
   "source": [
    "data.head()"
   ]
  },
  {
   "cell_type": "code",
   "execution_count": 31,
   "metadata": {},
   "outputs": [
    {
     "data": {
      "application/vnd.jupyter.widget-view+json": {
       "model_id": "5ca204878d7b4254bac71a17baf6790d",
       "version_major": 2,
       "version_minor": 0
      },
      "text/plain": [
       "HBox(children=(FloatProgress(value=0.0, max=10000.0), HTML(value='')))"
      ]
     },
     "metadata": {},
     "output_type": "display_data"
    },
    {
     "name": "stdout",
     "output_type": "stream",
     "text": [
      "\n"
     ]
    },
    {
     "data": {
      "image/png": "[encoded data removed]",
      "text/plain": [
       "<Figure size 432x288 with 1 Axes>"
      ]
     },
     "metadata": {},
     "output_type": "display_data"
    }
   ],
   "source": [
    "n = 10000 # количество симуляций aa-тестов\n",
    "n_samples = 500 # количество пользователей в подвыборках\n",
    "resample_ctr = []\n",
    "\n",
    "# цикл симуляций aa-тестов для ctr\n",
    "for element in tqdm(range(n)): # извлекаем подвыборки\n",
    "    sample_1 = data[data.exp_group == 2].ctr.sample(n_samples, replace = False).values # вторая группа\n",
    "    sample_2 = data[data.exp_group == 3].ctr.sample(n_samples, replace = False).values # третья группа\n",
    "    resample_ctr.append(stats.ttest_ind(sample_1, sample_2, equal_var = False)[1]) # t-test\n",
    "    \n",
    "# нарисуем график\n",
    "plt.hist(resample_ctr, bins = 50)\n",
    "plt.style.use('ggplot')\n",
    "plt.xlabel('p-values')\n",
    "plt.ylabel('frequency')\n",
    "plt.title(\"Распределение статистик ctr для A/A тестов, ttest\")\n",
    "plt.show()"
   ]
  },
  {
   "cell_type": "markdown",
   "metadata": {},
   "source": [
    "#### Значения распределены равномерно."
   ]
  },
  {
   "cell_type": "code",
   "execution_count": 32,
   "metadata": {},
   "outputs": [
    {
     "data": {
      "text/plain": [
       "4.66"
      ]
     },
     "execution_count": 32,
     "metadata": {},
     "output_type": "execute_result"
    }
   ],
   "source": [
    "# посмотрим, какой процент p-values оказался меньше либо равен 0.05\n",
    "sum(np.array(resample_ctr) <= 0.05) / n * 100"
   ]
  },
  {
   "cell_type": "code",
   "execution_count": 33,
   "metadata": {},
   "outputs": [
    {
     "data": {
      "application/vnd.jupyter.widget-view+json": {
       "model_id": "f329880af6f24933a049900708acb1ec",
       "version_major": 2,
       "version_minor": 0
      },
      "text/plain": [
       "HBox(children=(FloatProgress(value=0.0, max=10000.0), HTML(value='')))"
      ]
     },
     "metadata": {},
     "output_type": "display_data"
    },
    {
     "name": "stdout",
     "output_type": "stream",
     "text": [
      "\n"
     ]
    },
    {
     "data": {
      "image/png": "[encoded data removed]",
      "text/plain": [
       "<Figure size 432x288 with 1 Axes>"
      ]
     },
     "metadata": {},
     "output_type": "display_data"
    }
   ],
   "source": [
    "resample_smoothed_ctr = []\n",
    "\n",
    "# цикл симуляций aa-тестов для сглаженного ctr\n",
    "for i in tqdm(range(n)): # извлекаем подвыборки\n",
    "    sample_1_1 = data[data.exp_group == 2].smoothed_ctr.sample(n_samples, replace = False).values # вторая группа\n",
    "    sample_2_1 = data[data.exp_group == 3].smoothed_ctr.sample(n_samples, replace = False).values # третья группа\n",
    "    resample_smoothed_ctr.append(stats.ttest_ind(sample_1_1, sample_2_1, equal_var = False)[1]) # t-test\n",
    "\n",
    "# нарисуем график\n",
    "plt.hist(resample_smoothed_ctr, bins = 50)\n",
    "plt.style.use('ggplot')\n",
    "plt.xlabel('p-values')\n",
    "plt.ylabel('frequency')\n",
    "plt.title(\"Распределение статистик сглаженного ctr для A/A тестов, ttest\")\n",
    "plt.show()"
   ]
  },
  {
   "cell_type": "markdown",
   "metadata": {},
   "source": [
    "#### Значения распределены равномерно."
   ]
  },
  {
   "cell_type": "code",
   "execution_count": 35,
   "metadata": {},
   "outputs": [
    {
     "data": {
      "text/plain": [
       "4.6899999999999995"
      ]
     },
     "execution_count": 35,
     "metadata": {},
     "output_type": "execute_result"
    }
   ],
   "source": [
    "# посмотрим, какой процент p-values оказался меньше либо равен 0.05\n",
    "sum(np.array(resample_smoothed_ctr) <= 0.05) / n * 100"
   ]
  },
  {
   "cell_type": "markdown",
   "metadata": {},
   "source": [
    "### Вывод\n",
    "- В обоих случаях (для ctr и smoothed_ctr) p-values распределены равномерно;\n",
    "- Для стандартного ctr p-values оказались меньше либо равны 0.05 в 4.4 % случаев. Для сглаженного ctr p-values оказались меньше либо равны 0.05 в 4.3 % случаев. Статистически значимых различий нет ни в первом, ни во втором случае;\n",
    "- Т.к не удалось установить наличие статистически значимых различий между выборками, то можно сделать вывод о том, что система сплитования функционирует корректно.\n",
    "- Гипотеза H0 о равенстве выборок подтверждена, система сплитования работает корректно."
   ]
  }
 ],
 "metadata": {
  "kernelspec": {
   "display_name": "Python 3",
   "language": "python",
   "name": "python3"
  },
  "language_info": {
   "codemirror_mode": {
    "name": "ipython",
    "version": 3
   },
   "file_extension": ".py",
   "mimetype": "text/x-python",
   "name": "python",
   "nbconvert_exporter": "python",
   "pygments_lexer": "ipython3",
   "version": "3.7.6"
  }
 },
 "nbformat": 4,
 "nbformat_minor": 5
}
